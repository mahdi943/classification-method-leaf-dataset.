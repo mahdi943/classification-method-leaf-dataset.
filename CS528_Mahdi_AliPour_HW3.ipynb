{
  "nbformat": 4,
  "nbformat_minor": 0,
  "metadata": {
    "colab": {
      "name": "CS528-Mahdi-AliPour-HW3.ipynb",
      "provenance": [],
      "collapsed_sections": [],
      "mount_file_id": "1uCVo3HlxwJf-5vF0LZ0rA9s75EG_unjk",
      "authorship_tag": "ABX9TyPeICqsVh3f+SvUL7daLJtK",
      "include_colab_link": true
    },
    "kernelspec": {
      "name": "python3",
      "display_name": "Python 3"
    },
    "language_info": {
      "name": "python"
    }
  },
  "cells": [
    {
      "cell_type": "markdown",
      "metadata": {
        "id": "view-in-github",
        "colab_type": "text"
      },
      "source": [
        "<a href=\"https://colab.research.google.com/github/mahdi943/classification-method-leaf-dataset./blob/master/CS528_Mahdi_AliPour_HW3.ipynb\" target=\"_parent\"><img src=\"https://colab.research.google.com/assets/colab-badge.svg\" alt=\"Open In Colab\"/></a>"
      ]
    },
    {
      "cell_type": "code",
      "execution_count": 1,
      "metadata": {
        "colab": {
          "base_uri": "https://localhost:8080/"
        },
        "id": "S3VNGsWve-6o",
        "outputId": "2b463511-820c-4d83-98e4-a4315c5c0f11"
      },
      "outputs": [
        {
          "output_type": "stream",
          "name": "stdout",
          "text": [
            "\r0% [Working]\r            \rGet:1 http://security.ubuntu.com/ubuntu bionic-security InRelease [88.7 kB]\n",
            "Hit:2 https://developer.download.nvidia.com/compute/cuda/repos/ubuntu1804/x86_64  InRelease\n",
            "Ign:3 https://developer.download.nvidia.com/compute/machine-learning/repos/ubuntu1804/x86_64  InRelease\n",
            "Hit:4 https://developer.download.nvidia.com/compute/machine-learning/repos/ubuntu1804/x86_64  Release\n",
            "Hit:5 http://archive.ubuntu.com/ubuntu bionic InRelease\n",
            "Get:6 http://ppa.launchpad.net/c2d4u.team/c2d4u4.0+/ubuntu bionic InRelease [15.9 kB]\n",
            "Get:7 http://archive.ubuntu.com/ubuntu bionic-updates InRelease [88.7 kB]\n",
            "Get:8 https://cloud.r-project.org/bin/linux/ubuntu bionic-cran40/ InRelease [3,626 B]\n",
            "Hit:9 http://ppa.launchpad.net/cran/libgit2/ubuntu bionic InRelease\n",
            "Get:10 http://security.ubuntu.com/ubuntu bionic-security/universe amd64 Packages [1,496 kB]\n",
            "Get:11 http://archive.ubuntu.com/ubuntu bionic-backports InRelease [74.6 kB]\n",
            "Hit:12 http://ppa.launchpad.net/deadsnakes/ppa/ubuntu bionic InRelease\n",
            "Get:13 http://security.ubuntu.com/ubuntu bionic-security/main amd64 Packages [2,733 kB]\n",
            "Hit:15 http://ppa.launchpad.net/graphics-drivers/ppa/ubuntu bionic InRelease\n",
            "Get:16 http://ppa.launchpad.net/c2d4u.team/c2d4u4.0+/ubuntu bionic/main Sources [1,953 kB]\n",
            "Get:17 https://cloud.r-project.org/bin/linux/ubuntu bionic-cran40/ Packages [84.8 kB]\n",
            "Get:18 http://archive.ubuntu.com/ubuntu bionic-updates/main amd64 Packages [3,167 kB]\n",
            "Get:19 http://ppa.launchpad.net/c2d4u.team/c2d4u4.0+/ubuntu bionic/main amd64 Packages [1,001 kB]\n",
            "Get:20 http://archive.ubuntu.com/ubuntu bionic-updates/universe amd64 Packages [2,272 kB]\n",
            "Fetched 13.0 MB in 3s (3,856 kB/s)\n",
            "Reading package lists... Done\n",
            "update-alternatives: using /usr/lib/jvm/java-8-openjdk-amd64/jre/bin/java to provide /usr/bin/java (java) in manual mode\n",
            "openjdk version \"1.8.0_312\"\n",
            "OpenJDK Runtime Environment (build 1.8.0_312-8u312-b07-0ubuntu1~18.04-b07)\n",
            "OpenJDK 64-Bit Server VM (build 25.312-b07, mixed mode)\n",
            "Collecting pyspark\n",
            "  Downloading pyspark-3.2.1.tar.gz (281.4 MB)\n",
            "\u001b[K     |████████████████████████████████| 281.4 MB 33 kB/s \n",
            "\u001b[?25hCollecting py4j==0.10.9.3\n",
            "  Downloading py4j-0.10.9.3-py2.py3-none-any.whl (198 kB)\n",
            "\u001b[K     |████████████████████████████████| 198 kB 50.8 MB/s \n",
            "\u001b[?25hBuilding wheels for collected packages: pyspark\n",
            "  Building wheel for pyspark (setup.py) ... \u001b[?25l\u001b[?25hdone\n",
            "  Created wheel for pyspark: filename=pyspark-3.2.1-py2.py3-none-any.whl size=281853642 sha256=8b247e7f96dff2615f1d164eb0132937c0de4fad0279f9d6d9d6108268d06a16\n",
            "  Stored in directory: /root/.cache/pip/wheels/9f/f5/07/7cd8017084dce4e93e84e92efd1e1d5334db05f2e83bcef74f\n",
            "Successfully built pyspark\n",
            "Installing collected packages: py4j, pyspark\n",
            "Successfully installed py4j-0.10.9.3 pyspark-3.2.1\n"
          ]
        }
      ],
      "source": [
        "!apt-get update\n",
        "!apt-get install openjdk-8-jdk-headless -qq > /dev/null\n",
        "import os\n",
        "os.environ[\"JAVA_HOME\"] = \"/usr/lib/jvm/java-8-openjdk-amd64\"\n",
        "!update-alternatives --set java /usr/lib/jvm/java-8-openjdk-amd64/jre/bin/java\n",
        "!java -version\n",
        "!pip install pyspark"
      ]
    },
    {
      "cell_type": "markdown",
      "source": [
        "#Loading dataset ..."
      ],
      "metadata": {
        "id": "WPAoPCrH4EOt"
      }
    },
    {
      "cell_type": "code",
      "source": [
        "from pyspark.sql import SparkSession \n",
        "from pyspark.sql.functions import UserDefinedFunction\n",
        "from pyspark.ml.tuning import ParamGridBuilder, CrossValidator, TrainValidationSplit,ParamGridBuilder\n",
        "from pyspark.ml.feature import VectorAssembler,StringIndexer, PCA\n",
        "from pyspark.ml.evaluation import MulticlassClassificationEvaluator\n",
        "from pyspark.ml.classification import DecisionTreeClassifier,MultilayerPerceptronClassifier, RandomForestClassifier\n",
        "\n",
        "\n",
        "spark = SparkSession.builder.getOrCreate()\n",
        "leafDF = spark.read.option('header','false').option('inferSchema','true').csv('/content/drive/MyDrive/Colab-Notebooks/Big-data/HW3/leaf.csv')\n",
        "leafDF.show(5)\n",
        "\n",
        "# I dropped index column and applied VectorAssembler for column 2-16\n",
        "leafvec =  VectorAssembler(inputCols=leafDF.columns[2:],outputCol='features')\n",
        "leafDF = leafvec.transform(leafDF)\n",
        "leafDF = leafDF.select('features','_c0')\n",
        "leafDF = leafDF.withColumnRenamed(\"_c0\",\"label\")\n",
        "leafDF.show(10)\n"
      ],
      "metadata": {
        "colab": {
          "base_uri": "https://localhost:8080/"
        },
        "id": "_ChjyarNfX4S",
        "outputId": "757e2243-1a5b-4e65-8513-8e3067423275"
      },
      "execution_count": 55,
      "outputs": [
        {
          "output_type": "stream",
          "name": "stdout",
          "text": [
            "+---+---+-------+------+-------+-------+-------+-------+---------+---------+---------+--------+---------+---------+---------+-------+\n",
            "|_c0|_c1|    _c2|   _c3|    _c4|    _c5|    _c6|    _c7|      _c8|      _c9|     _c10|    _c11|     _c12|     _c13|     _c14|   _c15|\n",
            "+---+---+-------+------+-------+-------+-------+-------+---------+---------+---------+--------+---------+---------+---------+-------+\n",
            "|  1|  1|0.72694|1.4742|0.32396|0.98535|    1.0|0.83592|0.0046566|0.0039465|  0.04779| 0.12795| 0.016108|0.0052323|2.7477E-4| 1.1756|\n",
            "|  1|  2|0.74173|1.5257|0.36116|0.98152|0.99825|0.79867|0.0052423|0.0050016|  0.02416|0.090476|0.0081195| 0.002708|7.4846E-5|0.69659|\n",
            "|  1|  3|0.76722|1.5725|0.38998|0.97755|    1.0|0.80812|0.0074573| 0.010121| 0.011897|0.057445|0.0032891|9.2068E-4|3.7886E-5|0.44348|\n",
            "|  1|  4|0.73797|1.4597|0.35376|0.97566|    1.0|0.81697|0.0068768|0.0086068|  0.01595|0.065491|0.0042707|0.0011544|6.6272E-5|0.58785|\n",
            "|  1|  5|0.82301|1.7707|0.44462|0.97698|    1.0|0.75493| 0.007428| 0.010042|0.0079379|0.045339|0.0020514|5.5986E-4|2.3504E-5|0.34214|\n",
            "+---+---+-------+------+-------+-------+-------+-------+---------+---------+---------+--------+---------+---------+---------+-------+\n",
            "only showing top 5 rows\n",
            "\n",
            "+--------------------+-----+\n",
            "|            features|label|\n",
            "+--------------------+-----+\n",
            "|[0.72694,1.4742,0...|    1|\n",
            "|[0.74173,1.5257,0...|    1|\n",
            "|[0.76722,1.5725,0...|    1|\n",
            "|[0.73797,1.4597,0...|    1|\n",
            "|[0.82301,1.7707,0...|    1|\n",
            "|[0.72997,1.4892,0...|    1|\n",
            "|[0.82063,1.7529,0...|    1|\n",
            "|[0.77982,1.6215,0...|    1|\n",
            "|[0.83089,1.8199,0...|    1|\n",
            "|[0.90631,2.3906,0...|    1|\n",
            "+--------------------+-----+\n",
            "only showing top 10 rows\n",
            "\n"
          ]
        }
      ]
    },
    {
      "cell_type": "markdown",
      "source": [
        "# Spliting data\n",
        "I am trying 3 different methods:\n",
        "#### 1. Decision Tree\n",
        "#### 2. Multilayer Perceptron\n",
        "#### 3. Random Forest"
      ],
      "metadata": {
        "id": "J-mrEfymfGGk"
      }
    },
    {
      "cell_type": "code",
      "source": [
        "# Spliting dataset samely for 3 algorithms\n",
        "trainDF, testDF = leafDF.randomSplit([0.75,0.25],seed=1234)"
      ],
      "metadata": {
        "id": "USJiIMXQCYN0"
      },
      "execution_count": 38,
      "outputs": []
    },
    {
      "cell_type": "markdown",
      "source": [
        "# Decision Tree Classifier"
      ],
      "metadata": {
        "id": "CFAGnylameib"
      }
    },
    {
      "cell_type": "code",
      "source": [
        "classifierDT = DecisionTreeClassifier()\n",
        "\n",
        "# Adding MaxDepth and MaxBins parameters to decision tree using addGrid method\n",
        "myParams = (ParamGridBuilder()\n",
        "  .addGrid(classifierDT.maxBins, [5,10])\n",
        "  .addGrid(classifierDT.maxDepth,[3,6,9])\n",
        "  .build())\n",
        "\n",
        "# Create cross validation object\n",
        "eva = MulticlassClassificationEvaluator(predictionCol=\"prediction\", labelCol=\"label\",metricName='accuracy')\n",
        "validator = CrossValidator(\n",
        "    numFolds=5, \n",
        "    estimator=classifierDT,\n",
        "    estimatorParamMaps=myParams,\n",
        "    evaluator=eva)\n",
        "\n",
        "modelDT = validator.fit(trainDF)\n",
        "resultDF = modelDT.transform(testDF)\n",
        "resultDecTree = eva.evaluate(resultDF)\n",
        "\n",
        "print(\"Max Depth : \",modelDT.bestModel._java_obj.getMaxDepth())\n",
        "print(\"Max Bins : \",modelDT.bestModel.getMaxBins())\n",
        "print(\"Decision Tree Classifier Accuracy : \",resultDecTree)\n"
      ],
      "metadata": {
        "colab": {
          "base_uri": "https://localhost:8080/"
        },
        "id": "vSDfG65Jl3pA",
        "outputId": "d36eff64-c82e-4196-80a3-f31ef624e510"
      },
      "execution_count": 39,
      "outputs": [
        {
          "output_type": "stream",
          "name": "stdout",
          "text": [
            "Max Depth :  9\n",
            "Max Bins :  10\n",
            "Decision Tree Classifier Accuracy :  0.5888888888888889\n"
          ]
        }
      ]
    },
    {
      "cell_type": "markdown",
      "source": [
        "#Multilayer Perceptron Classifier"
      ],
      "metadata": {
        "id": "KC3VY3GfrUFN"
      }
    },
    {
      "cell_type": "code",
      "source": [
        "mlpClassifier= MultilayerPerceptronClassifier()\n",
        "eva = MulticlassClassificationEvaluator(metricName='accuracy')\n",
        "\n",
        "myParams = ParamGridBuilder().addGrid(mlpClassifier.layers, [[14,100,40],[14,300,40]]).build()\n",
        "\n",
        "validator = CrossValidator(estimator=mlpClassifier,\n",
        "                                 estimatorParamMaps=myParams,\n",
        "                                 evaluator=eva,\n",
        "                                 parallelism=4,\n",
        "                                 numFolds=10\n",
        "                                )\n",
        "\n",
        "modelMLP = validator.fit(trainDF)\n",
        "\n",
        "print(\"Layers : \",modelMLP.bestModel.getLayers())\n",
        "print(\"BlockSize : \",modelMLP.bestModel.getBlockSize())\n",
        "print(\"MaxIter : \",modelMLP.bestModel.getMaxIter())\n",
        "\n",
        "resultMLP = modelMLP.transform(testDF)\n",
        "accuracyMLP = eva.evaluate(resultMLP)\n",
        "print(\"Accuracy : \", accuracyMLP)"
      ],
      "metadata": {
        "colab": {
          "base_uri": "https://localhost:8080/"
        },
        "id": "UdWkmZdblN0l",
        "outputId": "9519aacf-41b1-43f0-938f-698e933346ca"
      },
      "execution_count": 54,
      "outputs": [
        {
          "output_type": "stream",
          "name": "stdout",
          "text": [
            "Layers :  [14, 300, 40]\n",
            "BlockSize :  128\n",
            "MaxIter :  100\n",
            "Accuracy :  0.6333333333333333\n"
          ]
        }
      ]
    },
    {
      "cell_type": "markdown",
      "source": [
        "# Random forest"
      ],
      "metadata": {
        "id": "K39IDDNqA6_W"
      }
    },
    {
      "cell_type": "code",
      "source": [
        "classifierRF = RandomForestClassifier()\n",
        "\n",
        "myParams = ParamGridBuilder().addGrid(classifierRF.numTrees,[8,12,15])\\\n",
        "                            .addGrid(classifierRF.maxDepth,[6,10])\\\n",
        "                            .addGrid(classifierRF.impurity,['entropy','gini']).build()\n",
        "\n",
        "validator = CrossValidator(estimator=classifierRF,\n",
        "                                 estimatorParamMaps=myParams,\n",
        "                                 evaluator=eva,\n",
        "                                 parallelism=4,\n",
        "                                 numFolds=10\n",
        "                                )\n",
        "\n",
        "modelRF = validator.fit(trainDF)\n",
        "\n",
        "print(\"Num Trees : \",modelRF.bestModel.getNumTrees)\n",
        "print(\"Max Depth : \",modelRF.bestModel._java_obj.getMaxDepth())\n",
        "print(\"Impurtiy : \",modelRF.bestModel._java_obj.getImpurity())\n",
        "resultRF = modelRF.transform(testDF)\n",
        "accuracyRF = eva.evaluate(resultRF)\n",
        "print(\"Accuracy : \", accuracyRF)"
      ],
      "metadata": {
        "colab": {
          "base_uri": "https://localhost:8080/"
        },
        "id": "RN2oh6H7okvd",
        "outputId": "05e71876-5450-4ba5-c406-b371b90964ce"
      },
      "execution_count": 47,
      "outputs": [
        {
          "output_type": "stream",
          "name": "stdout",
          "text": [
            "Num Trees :  12\n",
            "Max Depth :  10\n",
            "Impurtiy :  gini\n",
            "Accuracy :  0.7111111111111111\n"
          ]
        }
      ]
    },
    {
      "cell_type": "markdown",
      "source": [
        "# Report\n"
      ],
      "metadata": {
        "id": "gKGDRwROJYzr"
      }
    },
    {
      "cell_type": "code",
      "source": [
        "\n",
        "results_df = spark.createDataFrame(\n",
        "    [\n",
        "        (\"Desicion Tree\", \"Max Depth: 9, Max Bins: 10\", str(round(resultDecTree,2))), \n",
        "        (\"Multilayer Perceptron\", \"Layers: [14, 300, 40], Max Iter: 100, Block Size: 128\", str(round(accuracyMLP,2))), \n",
        "        (\"Random Forest\", \"Num Trees: 12, Max Depth: 10, Impurtiy: gini\", str(round(accuracyRF,2))),\n",
        "    ], \n",
        "    ('Method', 'Parameters', 'Accuracy'))\n",
        "result = results_df.sort('Accuracy', ascending=False)\n",
        "result.show(truncate = False)"
      ],
      "metadata": {
        "colab": {
          "base_uri": "https://localhost:8080/"
        },
        "id": "sIZUL2ztNsKw",
        "outputId": "39035ac2-ee89-4f2b-c62e-005d140550c8"
      },
      "execution_count": 62,
      "outputs": [
        {
          "output_type": "stream",
          "name": "stdout",
          "text": [
            "+---------------------+-----------------------------------------------------+--------+\n",
            "|Method               |Parameters                                           |Accuracy|\n",
            "+---------------------+-----------------------------------------------------+--------+\n",
            "|Random Forest        |Num Trees: 12, Max Depth: 10, Impurtiy: gini         |0.71    |\n",
            "|Multilayer Perceptron|Layers: [14, 300, 40], Max Iter: 100, Block Size: 128|0.63    |\n",
            "|Desicion Tree        |Max Depth: 9, Max Bins: 10                           |0.59    |\n",
            "+---------------------+-----------------------------------------------------+--------+\n",
            "\n"
          ]
        }
      ]
    }
  ]
}